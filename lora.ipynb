{
 "cells": [
  {
   "cell_type": "markdown",
   "id": "27f5119e-dbbc-4c67-b389-69fad097f9d6",
   "metadata": {},
   "source": [
    "## Introduction\n",
    "\n",
    "In the evolving landscape of large language models (LLMs) and the almost infinite number of use cases that they can help in, the ability to fine-tune them efficiently and effectively stands out as a challenge especially with both limited resources and data. This is where [Low-Rank Adaptation (LoRA)](https://huggingface.co/papers/2106.09685) technique appeared to be a game-changer enabling fine-tuning very big LLMs to specific task on limited resources and datasets.\n",
    "\n",
    "LoRA introduces a seemingly-simple yet powerful and cost-effective way to fine-tune LLMs and adapt them to a specific task by integrating low-rank matrices into the model's architecture. Put simple, instead of retraining the whole model's parameters over our data, we identify specific layers in the model's architecture that we would like to tweak and adjust and represent their weight matrices with smaller matrices and retrain these smaller ones instead in a parameter-efficient way. This approach significantly reduces the number of trainable parameters but still enable the base model to adapt to a specific task efficiently.\n",
    "\n",
    "In this blog post, we will delve deep into how LoRA works under the hood, looking at its mathematical foundations by walking through a practical example. By the end of this post, you'll see how useful and necessary LoRA is when it comes to fine-tuning large language models.\n",
    "\n",
    "## Understanding LoRA\n",
    "\n",
    "So what are low-rank matrices about and how do they work? Let's consider the linear equation:\n",
    "\n",
    "**y = Wx + b**\n",
    "\n",
    "Where W is the weight matrix (coefficients) and b is the intercept (bias) and of cource x is input and y is output.\n",
    "\n",
    "using LoRA, instead of updating the entire W which can be too big, we introduce two new low-rank matrices A and B whose dot product can approximate the adaptation that we might want to apply to W. Mathematically speaking we want to achieve:\n",
    "\n",
    "**W' (adapter) = W + AB**\n",
    "\n",
    "So now we can compute y by both leveraging the base model knowledge along with the adaptation to the task using the following equation:\n",
    "\n",
    "**y' (adapted) = (W + AB)x + b**\n",
    "\n",
    "So the main question here is how can we get A and B that can really represent W.\n",
    "\n",
    "### Low-Rank Approximation with SVD\n",
    "\n",
    "[Singular Value Decomposition (SVD)](https://en.wikipedia.org/wiki/Singular_value_decomposition) is a technique that decomposes (factorization) a matrix W into three other matrices:\n",
    "\n",
    "**W = USVt**\n",
    "\n",
    "Where U and V_transpose are orthogonal matrices and S is a diagonal matrix containing the singular values. For low-rank approximation, we take the first r largest values and the corresponding columns from U and rows from V_transpose to achieve an approximation Wr of W. In mathematical notation we will have:\n",
    "\n",
    "**Wr = UrSrVtr** \n",
    "\n",
    "So how is this related to LoRA? Remember that we needed to define A and B? So we can get them from these low-rank three matrices in the following way:\n",
    "\n",
    "**A = Ur * SQRT(Sr) & B = SQRT(Sr) * Vtr**\n",
    "\n",
    "Let's try to approximate a matrix using this logic in Pytorch."
   ]
  },
  {
   "cell_type": "code",
   "execution_count": 1,
   "id": "543e62c9-e200-4eb9-a4d0-7a02c7f0548e",
   "metadata": {},
   "outputs": [
    {
     "name": "stdout",
     "output_type": "stream",
     "text": [
      "Original W:\n",
      " tensor([[0.0918, 0.4794, 0.8106, 0.0151],\n",
      "        [0.0153, 0.6036, 0.2318, 0.8633],\n",
      "        [0.9859, 0.1975, 0.0830, 0.4253],\n",
      "        [0.9149, 0.4799, 0.5348, 0.2695]])\n",
      "Approximated W:\n",
      " tensor([[0.0374, 0.5079, 0.4906, 0.3878],\n",
      "        [0.0747, 0.5884, 0.5673, 0.4529],\n",
      "        [1.0059, 0.2161, 0.1760, 0.2814],\n",
      "        [0.8896, 0.4589, 0.4149, 0.4510]])\n"
     ]
    }
   ],
   "source": [
    "import torch\n",
    "\n",
    "torch.manual_seed(13)\n",
    "# Original matrix\n",
    "W = torch.rand(4, 4)\n",
    "# Perform Singular Value Decomposition\n",
    "U, S, Vt = torch.svd(W)\n",
    "# Rank r = 2 for low-rank approximation\n",
    "# if we set r = 4, we reconstruct the same original matrix\n",
    "r = 2\n",
    "Ur = U[:, :r]\n",
    "Sr = torch.diag(S[:r])\n",
    "Vtr = Vt.t()[:r, :]\n",
    "\n",
    "# Initialize A and B using the SVD components\n",
    "A = torch.mm(Ur, torch.sqrt(Sr))\n",
    "B = torch.mm(torch.sqrt(Sr), Vtr) #V transpose\n",
    "\n",
    "# Approximate W from A and B\n",
    "W_approx = torch.mm(A, B)\n",
    "\n",
    "print(\"Original W:\\n\", W)\n",
    "print(\"Approximated W:\\n\", W_approx)"
   ]
  },
  {
   "cell_type": "markdown",
   "id": "c4275709-b6d6-4bbb-b1f8-f5b30da8b42c",
   "metadata": {},
   "source": [
    "As you can see, we get a decent approximation of the original matrix with the low-rank A and B because we set r = 2. However, if we set r=4 we will get the original W. Try it!.\n",
    "So instead of updating W which can be too big, we use A and B as its approximate representation. Of course this comes with some cost which is somehow lower accuracy.\n",
    "\n",
    "Great! Now we want to know to what value we should set r? We know it should of course be smaller than the number of dimensions in original W but how smaller it should be?\n",
    "\n",
    "### LoRA Rank and Alpha\n",
    "\n",
    "The rank (r) represents the dimensionality of the matrices A and B which essentially controls the complexity of the adaptation. In a few words, it determines how close the low-rank matrices to the original matrix, i.e. the higher r the closer we get to original matrix and the higher the accuracy but the slower the fine-tuning process will be and also the more resources we might need. And vice versa if we choose a smaller r.\n",
    "\n",
    "So how to choose r? It depends on the specifics of your task and how you want to adapt the base model to it. If you see the base model performs already very well but you want to slightly adjust it teaching it some fine-grained details, you'd better choose small r (in range of 4 to 16). But in case you want to teach the base model a somewhat new domain allowing for a more complex adaptation, you may need to set r to a higher range (32 to 128 or bigger). Take care that high r while you don't have enough data may lead the model to overfitting.\n",
    "\n",
    "There is another important parameter in LoRA which is alpha (a). Alpha is a scaling factor applied to the dot product of AB to determine the magnitude of the adaptation in the final prediction.\n",
    "Let's see the effect of alpha mathematically. Remember the equation to predict y':\n",
    "\n",
    "**y' (adapted) = (W + AB)x + b**\n",
    "\n",
    "So to add alpha we will have:\n",
    "\n",
    "**y' (adapted) = (W + (alpha * AB)) x + b**\n",
    "\n",
    "As you can see and infer, the higher alpha, the more effect AB will have on the final prediction. Alpha can help balance between retaining the pre-trained knowledge from the base model (when a is small) and adapting to the new task (when a is larger).\n",
    "\n",
    "## Practical Fine-tuning Example with LoRA\n",
    "\n",
    "Now we know the ins and outs of LoRA, let's walk through a simple neural network example to see how it works.\n",
    "We will build a pytorch model and train it on MNIST data. The trick is that we will only train the base model it on hand-written images of numbers from 0 to 7 only, leaving out 8 and 9 (as our specific task data). Then we will use the base model, that never saw 8 and 9 (our task), and fine-tune some of its layers using LoRA and see if it learns to classify them.\n",
    "\n",
    "Let's first get the data"
   ]
  },
  {
   "cell_type": "code",
   "execution_count": 2,
   "id": "f6fcc4cf-cb27-413f-83e7-ae07331cfe65",
   "metadata": {},
   "outputs": [],
   "source": [
    "import torch\n",
    "import torch.nn as nn\n",
    "import torch.optim as optim\n",
    "from torchvision import datasets, transforms\n",
    "from torch.utils.data import Dataset, DataLoader, Subset\n",
    "from copy import deepcopy\n",
    "\n",
    "# Load and preprocess the MNIST dataset\n",
    "transform = transforms.Compose([transforms.ToTensor(), transforms.Normalize((0.5,), (0.5,))])\n",
    "mnist_train = datasets.MNIST(root='./data', train=True, download=True, transform=transform)\n",
    "mnist_test = datasets.MNIST(root='./data', train=False, download=True, transform=transform)\n",
    "\n",
    "# Filter out data for digits 8 and 9\n",
    "train_idx = mnist_train.targets < 8\n",
    "test_idx = mnist_test.targets < 8\n",
    "\n",
    "mnist_Xtrain_0to7 = mnist_train.data[train_idx].float()\n",
    "mnist_ytrain_0to7 = mnist_train.targets[train_idx]\n",
    "\n",
    "mnist_Xtest_0to7 = mnist_test.data[test_idx].float()\n",
    "mnist_ytest_0to7 = mnist_test.targets[test_idx]\n",
    "\n",
    "# a class to pass to the dataloader\n",
    "# mnist_train itself can be passed but we will divide it to so many parts\n",
    "class MNISTDataset(Dataset):\n",
    "    def __init__(self, X, Y):\n",
    "        self.X = X\n",
    "        self.Y = Y\n",
    "\n",
    "    def __len__(self):\n",
    "        return len(self.X)\n",
    "\n",
    "    def __getitem__(self, idx):\n",
    "        return [self.X[idx], self.Y[idx]]\n",
    "\n",
    "mnist_train_0to7 = MNISTDataset(mnist_Xtrain_0to7, mnist_ytrain_0to7)\n",
    "mnist_test_0to7 = MNISTDataset(mnist_Xtest_0to7, mnist_ytest_0to7)\n",
    "train_loader = DataLoader(mnist_train_0to7, batch_size=64, shuffle=True)\n",
    "test_loader = DataLoader(mnist_test_0to7, batch_size=1000, shuffle=False)"
   ]
  },
  {
   "cell_type": "markdown",
   "id": "2e921c54-c7c0-4eca-b4bf-3e09bd7d6f30",
   "metadata": {},
   "source": [
    "Now let’s build the base model and train it"
   ]
  },
  {
   "cell_type": "code",
   "execution_count": 3,
   "id": "fc2d6bb0-a82f-44ee-9ffa-69daca1940f3",
   "metadata": {},
   "outputs": [
    {
     "name": "stdout",
     "output_type": "stream",
     "text": [
      "Epoch 1, Loss: 0.0031473003327846527\n",
      "Epoch 2, Loss: 0.06828805804252625\n",
      "Epoch 3, Loss: 0.37481003999710083\n",
      "Epoch 4, Loss: 0.25604182481765747\n",
      "Epoch 5, Loss: 3.3568281651241705e-05\n"
     ]
    }
   ],
   "source": [
    "class MLP(nn.Module):\n",
    "    def __init__(self):\n",
    "        super(MLP, self).__init__()\n",
    "        self.layers = nn.Sequential(\n",
    "            nn.Flatten(),\n",
    "            nn.Linear(28 * 28, 512),\n",
    "            nn.ReLU(),\n",
    "            nn.Linear(512, 256),\n",
    "            nn.ReLU(),\n",
    "            nn.Linear(256, 10)  # Output layer for 10 classes\n",
    "        )\n",
    "    \n",
    "    def forward(self, x):\n",
    "        return self.layers(x)\n",
    "\n",
    "model = MLP()\n",
    "criterion = nn.CrossEntropyLoss()\n",
    "optimizer = optim.Adam(model.parameters(), lr=1e-3)\n",
    "\n",
    "# Train\n",
    "model.train()\n",
    "for epoch in range(5):  # Train for 5 epochs for demonstration\n",
    "    for data, target in train_loader:\n",
    "        optimizer.zero_grad()\n",
    "        output = model(data)\n",
    "        loss = criterion(output, target)\n",
    "        loss.backward()\n",
    "        optimizer.step()\n",
    "    print(f\"Epoch {epoch+1}, Loss: {loss.item()}\")"
   ]
  },
  {
   "cell_type": "markdown",
   "id": "605b8b47-ce9f-4877-b72b-633f0dc6542b",
   "metadata": {},
   "source": [
    "Now let’s evaluate the model on the test data."
   ]
  },
  {
   "cell_type": "code",
   "execution_count": 4,
   "id": "dfdf9408-9cc8-413b-9651-8f561435abb2",
   "metadata": {},
   "outputs": [
    {
     "name": "stdout",
     "output_type": "stream",
     "text": [
      "accuracy: tensor(0.9659)\n"
     ]
    }
   ],
   "source": [
    "model.eval()\n",
    "y_hat = model(mnist_Xtest_0to7)\n",
    "print(\"accuracy:\",\n",
    "((torch.argmax(y_hat, dim = 1)) == mnist_ytest_0to7).sum() / mnist_ytest_0to7.size()[0])"
   ]
  },
  {
   "cell_type": "markdown",
   "id": "36b99cf6-e7a5-4940-8326-e174c39ff5bd",
   "metadata": {},
   "source": [
    "Great! We have a nice base model. Now let’s define the data for 8 and 9 digits and test the base model on them to see how it performs."
   ]
  },
  {
   "cell_type": "code",
   "execution_count": 5,
   "id": "4f945691-29f5-4756-a996-10cba1036211",
   "metadata": {},
   "outputs": [
    {
     "name": "stdout",
     "output_type": "stream",
     "text": [
      "accuracy: tensor(0.)\n"
     ]
    }
   ],
   "source": [
    "# The data for digits 8 and 9\n",
    "train_idx_89 = mnist_train.targets >= 8\n",
    "test_idx_89 = mnist_test.targets >= 8\n",
    "\n",
    "mnist_Xtrain_89 = mnist_train.data[train_idx_89].float()\n",
    "mnist_ytrain_89 = mnist_train.targets[train_idx_89]\n",
    "\n",
    "mnist_Xtest_89 = mnist_test.data[test_idx_89].float()\n",
    "mnist_ytest_89 = mnist_test.targets[test_idx_89]\n",
    "\n",
    "mnist_train_89 = MNISTDataset(mnist_Xtrain_89, mnist_ytrain_89)\n",
    "mnist_test_89 = MNISTDataset(mnist_Xtest_89, mnist_ytest_89)\n",
    "train89_loader = DataLoader(mnist_train_89, batch_size=64, shuffle=True)\n",
    "test89_loader = DataLoader(mnist_test_89, batch_size=1000, shuffle=False)\n",
    "\n",
    "y_hat = model(mnist_Xtest_89)\n",
    "print(\"accuracy:\",\n",
    "((torch.argmax(y_hat, dim = 1)) == mnist_ytest_89).sum() / mnist_ytest_89.size()[0])"
   ]
  },
  {
   "cell_type": "markdown",
   "id": "9fa72fc4-6498-47c9-9dd1-040a22a8e35c",
   "metadata": {},
   "source": [
    "Cool! The model cannot predict 8 or 9. Now we will define our LoRA model that will only low-rank fine-tune the last layer only for simplicity and demonstration."
   ]
  },
  {
   "cell_type": "code",
   "execution_count": 6,
   "id": "517ebaa3-cb28-4bd4-a0b9-a2d096c354c5",
   "metadata": {},
   "outputs": [
    {
     "name": "stdout",
     "output_type": "stream",
     "text": [
      "Fine-tuning Epoch 1, Loss: 0.8165128827095032\n",
      "Fine-tuning Epoch 2, Loss: 0.05013302341103554\n",
      "Fine-tuning Epoch 3, Loss: 0.0927479937672615\n"
     ]
    }
   ],
   "source": [
    "class LoRAMLP(nn.Module):\n",
    "    def __init__(self, base_model, rank=16, alpha=1.0):\n",
    "        super(LoRAMLP, self).__init__()\n",
    "        self.base_model = base_model\n",
    "        self.rank = rank\n",
    "        self.alpha = alpha\n",
    "\n",
    "        # Identify the layer to adapt (the last layer)\n",
    "        layer_to_adapt = base_model.layers[-1]\n",
    "\n",
    "        # Freeze the parameters of the base model\n",
    "        for param in self.base_model.parameters():\n",
    "            param.requires_grad = False\n",
    "\n",
    "        # Perform SVD on the weight matrix of the layer to adapt\n",
    "        U, S, V = torch.svd(layer_to_adapt.weight.detach())\n",
    "\n",
    "        # Initialize A and B using the top-r singular values and vectors\n",
    "        self.A = nn.Parameter(U[:, :rank] @ torch.diag(S[:rank]).sqrt())\n",
    "        self.B = nn.Parameter(torch.diag(S[:rank]).sqrt() @ V.t()[:rank, :])\n",
    "\n",
    "    def forward(self, x):\n",
    "        x = self.base_model.layers[:-1](x)  # Use all layers except the last one\n",
    "        # Apply the LoRA modification and scale by alpha\n",
    "        adapted_weight = self.base_model.layers[-1].weight + self.alpha * (self.A @ self.B)\n",
    "        x = torch.matmul(x, adapted_weight.t()) + self.base_model.layers[-1].bias\n",
    "        return x\n",
    "\n",
    "# Initialize the LoRA-adapted model\n",
    "lora_model = LoRAMLP(deepcopy(model), rank = 4, alpha = 1)\n",
    "optimizer = optim.Adam(lora_model.parameters(), lr=5e-3)  # Optimizer for LoRA parameters\n",
    "\n",
    "# Fine-tune on digits 8 and 9\n",
    "for epoch in range(3):  # Fine-tune for 3 epochs\n",
    "    lora_model.train()\n",
    "    for data, target in train89_loader:\n",
    "        optimizer.zero_grad()\n",
    "        output = lora_model(data)\n",
    "        loss = criterion(output, target)  # you can use (target -8) to adjust targets for 0-1 range\n",
    "        loss.backward()\n",
    "        optimizer.step()\n",
    "    print(f\"Fine-tuning Epoch {epoch+1}, Loss: {loss.item()}\")"
   ]
  },
  {
   "cell_type": "markdown",
   "id": "09f84c36-3d59-4313-8f0f-e60b7b8d4890",
   "metadata": {},
   "source": [
    "Let’s now test it on the data of 8 and 9 digits"
   ]
  },
  {
   "cell_type": "code",
   "execution_count": 7,
   "id": "3c75ec00-d756-4645-bfde-592281db6a3a",
   "metadata": {},
   "outputs": [
    {
     "name": "stdout",
     "output_type": "stream",
     "text": [
      "accuracy: tensor(0.9425)\n"
     ]
    }
   ],
   "source": [
    "lora_model.eval()\n",
    "lora_y_hat = lora_model(mnist_Xtest_89)\n",
    "print(\"accuracy:\",\n",
    "((torch.argmax(lora_y_hat, dim = 1)) == mnist_ytest_89).sum() / mnist_ytest_89.size()[0])"
   ]
  },
  {
   "cell_type": "markdown",
   "id": "f5fce756-dcf2-4b03-bcc8-a2592a781ac5",
   "metadata": {},
   "source": [
    "Awesome! We have successfully fine-tuned the model on our specific task and saw how to do so in a parameter-efficient way with LoRA. Let’s finally look at how much memory we saved looking at the trainable parameters in both the base model and the LoRA model."
   ]
  },
  {
   "cell_type": "code",
   "execution_count": 8,
   "id": "c6401a89-6616-459d-bb4a-1f3a1f9b94dc",
   "metadata": {},
   "outputs": [
    {
     "name": "stdout",
     "output_type": "stream",
     "text": [
      "original trainable parameters count is: 535818 which is 100%\n",
      "trainable parameters count with LoRA is: 1064 which is 0.1985748892347775%\n"
     ]
    }
   ],
   "source": [
    "base_model_trainable_params = sum(p.numel() for p in model.parameters() if p.requires_grad)\n",
    "lora_trainable_params = sum(p.numel() for p in lora_model.parameters() if p.requires_grad)\n",
    "print(f\"original trainable parameters count is: {base_model_trainable_params} which is 100%\")\n",
    "print(f\"trainable parameters count with LoRA is: {lora_trainable_params} which is {(lora_trainable_params/base_model_trainable_params) * 100}%\")"
   ]
  },
  {
   "cell_type": "markdown",
   "id": "345627ef-86de-4403-aca7-e6d9a0dca9d3",
   "metadata": {},
   "source": [
    "We reduced the number of trainable parameters significantly while still having a very good fine-tuned model.\n",
    "\n",
    "## LoRA in Fine-tuning LLMs\n",
    "The same technique is applied on LLMs but on multiple different layers that would be very difficult to do it manually. Luckily HuggingFace has [PeFT library](https://github.com/huggingface/peft) that can help achive LoRA adaptation efficiently. We will look at a full use case in details in next blog posts soon. However, as a quick illustration, here’s how we can do it with peft."
   ]
  },
  {
   "cell_type": "code",
   "execution_count": null,
   "id": "a372457c-1131-4c67-917c-6945cceb7660",
   "metadata": {},
   "outputs": [],
   "source": [
    "from peft import LoraConfig, get_peft_model, prepare_model_for_kbit_training\n",
    "from transformers import TrainingArguments\n",
    "from trl import SFTTrainer\n",
    "\n",
    "lora_config = LoraConfig(r = 32, lora_alpha = 32,\n",
    "                        lora_dropout = 0.05, bias = \"none\",\n",
    "                        task_type = \"CAUSAL_LM\",\n",
    "                        target_modules = [\"q_proj\", \"v_proj\", \"k_proj\"])\n",
    "model = prepare_model_for_kbit_training(base_model)\n",
    "model = get_peft_model(model, lora_config)\n",
    "\n",
    "training_args = TrainingArguments(\n",
    "   per_device_train_batch_size = 3,\n",
    "   warmup_steps = 0.03,\n",
    "   num_train_epochs=5,\n",
    "   evaluation_strategy=\"epoch\",\n",
    "   fp16 = not torch.cuda.is_bf16_supported(),\n",
    "   bf16 = torch.cuda.is_bf16_supported(),\n",
    "   learning_rate = 5e-4,\n",
    "   save_strategy=\"epoch\",\n",
    "   weight_decay = 0.1,\n",
    "   lr_scheduler_type = \"cosine\",\n",
    "   seed = 1311,\n",
    "   output_dir = \"outputs\",\n",
    "   save_total_limit=2,\n",
    "   load_best_model_at_end=True)\n",
    "\n",
    "trainer = SFTTrainer(\n",
    "   model = model,\n",
    "   train_dataset = data,\n",
    "   eval_dataset = data,\n",
    "   max_seq_length = max_seq_len,\n",
    "   args = training_args,\n",
    "   packing= True,\n",
    "   formatting_func = formatting_func,\n",
    "   peft_config=lora_config)\n",
    "\n",
    "trainer_stats = trainer.train()"
   ]
  }
 ],
 "metadata": {
  "kernelspec": {
   "display_name": "Python 3 (ipykernel)",
   "language": "python",
   "name": "python3"
  },
  "language_info": {
   "codemirror_mode": {
    "name": "ipython",
    "version": 3
   },
   "file_extension": ".py",
   "mimetype": "text/x-python",
   "name": "python",
   "nbconvert_exporter": "python",
   "pygments_lexer": "ipython3",
   "version": "3.10.12"
  }
 },
 "nbformat": 4,
 "nbformat_minor": 5
}
